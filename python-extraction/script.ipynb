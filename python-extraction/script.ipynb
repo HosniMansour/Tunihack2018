{
 "cells": [
  {
   "cell_type": "code",
   "execution_count": 230,
   "metadata": {},
   "outputs": [
    {
     "name": "stdout",
     "output_type": "stream",
     "text": [
      "167\n",
      " Journal Officiel de la République Tunisienne\n",
      " Š  31 décembre 2013\n",
      " N° 105\n",
      " Page \n",
      "3666\n",
      " Loi n° 2013\n",
      "-54 du 30 décembre 201\n",
      "3, portant loi de finances pour l™année 201\n",
      "4 (1)\n",
      ". Au nom du peuple,\n",
      "  L™assemblée nationale constituante ayant\n",
      " adopté,\n",
      " Le Président de la République promulgue la loi dont la teneur suit :\n",
      " Dispositions budgétaires\n",
      " Article premier \n",
      "- Est et demeure autorisée pour l™année 2014 la perception au profit du Budget de l™Etat \n",
      "des recettes provenant des impôts, taxes, redeva\n",
      "nces, contributions, divers revenus et prêts d'un montant \n",
      "total de 28 025 000 000 Dinars répartis comme suit :\n",
      "  - Recettes du Titre I\n",
      " 19 020 200 000 Dinars\n",
      " - Recettes du Titre II\n",
      " 8 052 000 000 Dinars\n",
      " - Recettes des fonds spéciaux du Trésor\n",
      " 952 800 000 Di\n",
      "nars\n",
      "  Ces recettes sont réparties conformément au tableau « A » annexé à la présente loi.\n",
      " Article 2\n",
      " : Les recettes affectées aux fonds spéciaux du Trésor pour l'année 2014 sont fixées à 952 800 000 Di\n",
      "nars \n",
      "conformément au tableau « B » annexé à la présente\n",
      " loi.\n",
      " Article 3\n",
      " : Le montant des crédits de paiement des dépenses du Budget de l'Etat pour l'année 2014 est \n",
      "fixé à 28 025 000 000 Dinars répartis par sections et par parties comme suit :\n",
      " Première section : Dépenses de gestion\n",
      "  - Première partie : Rémunérat\n",
      "ions publiques\n",
      " 10 554 866 000 Dinars\n",
      " - Deuxième partie: Moyens des services\n",
      " 1 050 830 000 Dinars\n",
      " - Troisième partie : Interventions publiques\n",
      " 5 660 818 000 Dinars\n",
      " - Quatrième partie : Dépenses de gestion imprévues\n",
      " 296 186 000 Dinars\n",
      " Total de la premièr\n",
      "e section :\n",
      "  17 562 700 000 Dinars\n",
      "  Deuxième section : Intérêts de la dette Publique\n",
      "  - Cinquième partie : Intérêts de la dette publique\n",
      " 1 475 000 000 Dinars\n",
      " Total de la deuxième section\n",
      " 1 475 000 000 Dinars\n",
      "                                              \n",
      "        \n",
      "  ____________ \n",
      " (1) Travaux préparatoires :\n",
      " Discussion et adoption par l™assemblée nationale constituante dans sa séance du \n",
      "30 décembre 2013\n",
      ". \n"
     ]
    }
   ],
   "source": [
    "# importing required modules \n",
    "import PyPDF2 \n",
    "  \n",
    "# creating a pdf file object \n",
    "pdfFileObj = open('2014.pdf', 'rb') \n",
    "\n",
    "# creating a pdf reader object \n",
    "pdfReader = PyPDF2.PdfFileReader(pdfFileObj) \n",
    "\n",
    "# printing number of pages in pdf file \n",
    "print(pdfReader.numPages) \n",
    "  \n",
    "# creating a page object \n",
    "pageObj = pdfReader.getPage(0) \n",
    "  \n",
    "# extracting text from page \n",
    "print(pageObj.extractText()) \n",
    "  \n",
    "# closing the pdf file object \n",
    "pdfFileObj.close() "
   ]
  },
  {
   "cell_type": "code",
   "execution_count": 231,
   "metadata": {},
   "outputs": [
    {
     "data": {
      "text/plain": [
       "\" Journal Officiel de la République Tunisienne\\n Š  31 décembre 2013\\n N° 105\\n Page \\n3666\\n Loi n° 2013\\n-54 du 30 décembre 201\\n3, portant loi de finances pour l™année 201\\n4 (1)\\n. Au nom du peuple,\\n  L™assemblée nationale constituante ayant\\n adopté,\\n Le Président de la République promulgue la loi dont la teneur suit :\\n Dispositions budgétaires\\n Article premier \\n- Est et demeure autorisée pour l™année 2014 la perception au profit du Budget de l™Etat \\ndes recettes provenant des impôts, taxes, redeva\\nnces, contributions, divers revenus et prêts d'un montant \\ntotal de 28 025 000 000 Dinars répartis comme suit :\\n  - Recettes du Titre I\\n 19 020 200 000 Dinars\\n - Recettes du Titre II\\n 8 052 000 000 Dinars\\n - Recettes des fonds spéciaux du Trésor\\n 952 800 000 Di\\nnars\\n  Ces recettes sont réparties conformément au tableau « A » annexé à la présente loi.\\n Article 2\\n : Les recettes affectées aux fonds spéciaux du Trésor pour l'année 2014 sont fixées à 952 800 000 Di\\nnars \\nconformément au tableau « B » annexé à la présente\\n loi.\\n Article 3\\n : Le montant des crédits de paiement des dépenses du Budget de l'Etat pour l'année 2014 est \\nfixé à 28 025 000 000 Dinars répartis par sections et par parties comme suit :\\n Première section : Dépenses de gestion\\n  - Première partie : Rémunérat\\nions publiques\\n 10 554 866 000 Dinars\\n - Deuxième partie: Moyens des services\\n 1 050 830 000 Dinars\\n - Troisième partie : Interventions publiques\\n 5 660 818 000 Dinars\\n - Quatrième partie : Dépenses de gestion imprévues\\n 296 186 000 Dinars\\n Total de la premièr\\ne section :\\n  17 562 700 000 Dinars\\n  Deuxième section : Intérêts de la dette Publique\\n  - Cinquième partie : Intérêts de la dette publique\\n 1 475 000 000 Dinars\\n Total de la deuxième section\\n 1 475 000 000 Dinars\\n                                              \\n        \\n  ____________ \\n (1) Travaux préparatoires :\\n Discussion et adoption par l™assemblée nationale constituante dans sa séance du \\n30 décembre 2013\\n. \""
      ]
     },
     "execution_count": 231,
     "metadata": {},
     "output_type": "execute_result"
    }
   ],
   "source": [
    "pageObj.extractText()"
   ]
  },
  {
   "cell_type": "code",
   "execution_count": 232,
   "metadata": {},
   "outputs": [
    {
     "data": {
      "text/plain": [
       "str"
      ]
     },
     "execution_count": 232,
     "metadata": {},
     "output_type": "execute_result"
    }
   ],
   "source": [
    "type(pageObj.extractText())"
   ]
  },
  {
   "cell_type": "code",
   "execution_count": 233,
   "metadata": {},
   "outputs": [],
   "source": [
    "listString= pageObj.extractText().split(\"\\n\")                                                                               "
   ]
  },
  {
   "cell_type": "code",
   "execution_count": 234,
   "metadata": {},
   "outputs": [
    {
     "data": {
      "text/plain": [
       "[' Journal Officiel de la République Tunisienne',\n",
       " ' Š  31 décembre 2013',\n",
       " ' N° 105',\n",
       " ' Page ',\n",
       " '3666',\n",
       " ' Loi n° 2013',\n",
       " '-54 du 30 décembre 201',\n",
       " '3, portant loi de finances pour l™année 201',\n",
       " '4 (1)',\n",
       " '. Au nom du peuple,',\n",
       " '  L™assemblée nationale constituante ayant',\n",
       " ' adopté,',\n",
       " ' Le Président de la République promulgue la loi dont la teneur suit :',\n",
       " ' Dispositions budgétaires',\n",
       " ' Article premier ',\n",
       " '- Est et demeure autorisée pour l™année 2014 la perception au profit du Budget de l™Etat ',\n",
       " 'des recettes provenant des impôts, taxes, redeva',\n",
       " \"nces, contributions, divers revenus et prêts d'un montant \",\n",
       " 'total de 28 025 000 000 Dinars répartis comme suit :',\n",
       " '  - Recettes du Titre I',\n",
       " ' 19 020 200 000 Dinars',\n",
       " ' - Recettes du Titre II',\n",
       " ' 8 052 000 000 Dinars',\n",
       " ' - Recettes des fonds spéciaux du Trésor',\n",
       " ' 952 800 000 Di',\n",
       " 'nars',\n",
       " '  Ces recettes sont réparties conformément au tableau « A » annexé à la présente loi.',\n",
       " ' Article 2',\n",
       " \" : Les recettes affectées aux fonds spéciaux du Trésor pour l'année 2014 sont fixées à 952 800 000 Di\",\n",
       " 'nars ',\n",
       " 'conformément au tableau « B » annexé à la présente',\n",
       " ' loi.',\n",
       " ' Article 3',\n",
       " \" : Le montant des crédits de paiement des dépenses du Budget de l'Etat pour l'année 2014 est \",\n",
       " 'fixé à 28 025 000 000 Dinars répartis par sections et par parties comme suit :',\n",
       " ' Première section : Dépenses de gestion',\n",
       " '  - Première partie : Rémunérat',\n",
       " 'ions publiques',\n",
       " ' 10 554 866 000 Dinars',\n",
       " ' - Deuxième partie: Moyens des services',\n",
       " ' 1 050 830 000 Dinars',\n",
       " ' - Troisième partie : Interventions publiques',\n",
       " ' 5 660 818 000 Dinars',\n",
       " ' - Quatrième partie : Dépenses de gestion imprévues',\n",
       " ' 296 186 000 Dinars',\n",
       " ' Total de la premièr',\n",
       " 'e section :',\n",
       " '  17 562 700 000 Dinars',\n",
       " '  Deuxième section : Intérêts de la dette Publique',\n",
       " '  - Cinquième partie : Intérêts de la dette publique',\n",
       " ' 1 475 000 000 Dinars',\n",
       " ' Total de la deuxième section',\n",
       " ' 1 475 000 000 Dinars',\n",
       " '                                              ',\n",
       " '        ',\n",
       " '  ____________ ',\n",
       " ' (1) Travaux préparatoires :',\n",
       " ' Discussion et adoption par l™assemblée nationale constituante dans sa séance du ',\n",
       " '30 décembre 2013',\n",
       " '. ']"
      ]
     },
     "execution_count": 234,
     "metadata": {},
     "output_type": "execute_result"
    }
   ],
   "source": [
    "listString"
   ]
  },
  {
   "cell_type": "code",
   "execution_count": 235,
   "metadata": {},
   "outputs": [],
   "source": [
    "finance={}"
   ]
  },
  {
   "cell_type": "code",
   "execution_count": 236,
   "metadata": {},
   "outputs": [],
   "source": [
    "for i in range(0,len(listString)):\n",
    "    if listString[i].rfind(\"Recettes du Titre II\") != -1:\n",
    "        finance[\"montant\"]=listString[i+1]\n",
    "\n",
    "    if listString[i].rfind(\"  - Recettes du Titre I\") != -1:\n",
    "        finance[\"recette_t_1\"]=listString[i+1]\n",
    "        \n",
    "        \n",
    "    if listString[i].rfind(\"Recettes du Titre II\") != -1:\n",
    "        finance[\"recette_t_2\"]=listString[i+1]\n",
    "        \n",
    "        \n",
    "    if listString[i].rfind(\"Recettes des fonds\") != -1:\n",
    "        finance[\"recette_f\"]=listString[i+1]\n",
    "        \n",
    "    if listString[i].rfind(\"Moyens des services\") != -1:\n",
    "        finance[\"Moyens_services\"]=listString[i+1]  \n",
    "        \n",
    "    if listString[i].rfind(\"Dépenses de gestion imprévues\") != -1:\n",
    "        finance[\"Dépenses_gestion_imprévues\"]=listString[i+1]"
   ]
  },
  {
   "cell_type": "code",
   "execution_count": 237,
   "metadata": {},
   "outputs": [],
   "source": [
    "finance['year']=pdfFileObj.name.replace(\".pdf\", \"\")"
   ]
  },
  {
   "cell_type": "code",
   "execution_count": 238,
   "metadata": {},
   "outputs": [
    {
     "data": {
      "text/plain": [
       "{'recette_t_1': ' 19 020 200 000 Dinars',\n",
       " 'montant': ' 8 052 000 000 Dinars',\n",
       " 'recette_t_2': ' 8 052 000 000 Dinars',\n",
       " 'recette_f': ' 952 800 000 Di',\n",
       " 'Moyens_services': ' 1 050 830 000 Dinars',\n",
       " 'Dépenses_gestion_imprévues': ' 296 186 000 Dinars',\n",
       " 'year': '2014'}"
      ]
     },
     "execution_count": 238,
     "metadata": {},
     "output_type": "execute_result"
    }
   ],
   "source": [
    "finance"
   ]
  },
  {
   "cell_type": "code",
   "execution_count": 239,
   "metadata": {},
   "outputs": [],
   "source": [
    "import pymongo\n",
    "\n",
    "myclient = pymongo.MongoClient(\"mongodb://localhost:27017/\")\n",
    "mydb = myclient[\"tunihack\"]\n",
    "mycol = mydb[\"finance\"]\n",
    "\n",
    "\n",
    "x = mycol.insert_one(finance)"
   ]
  },
  {
   "cell_type": "code",
   "execution_count": 240,
   "metadata": {},
   "outputs": [
    {
     "data": {
      "text/plain": [
       "{'_id': ObjectId('5c032b4ee1f2f22c84dd77a8'),\n",
       " 'recette_t_1': '- Recettes du Titre II 7 001 000 000 Dinars ',\n",
       " 'montant': '- Recettes des fonds spéciaux du Trésor 920 100 000 Dinars ',\n",
       " 'recette_t_2': '- Recettes des fonds spéciaux du Trésor 920 100 000 Dinars ',\n",
       " 'recette_f': ' Ces recettes sont réparties conformément au tableau « A » annexé à la présente loi.  ',\n",
       " 'Moyens_services': '',\n",
       " 'Dépenses_gestion_imprévues': 'Total de la première partie :13 441 900 000 Dinars ',\n",
       " 'year': '2012'}"
      ]
     },
     "execution_count": 240,
     "metadata": {},
     "output_type": "execute_result"
    }
   ],
   "source": [
    "mycol.find_one()"
   ]
  },
  {
   "cell_type": "code",
   "execution_count": null,
   "metadata": {},
   "outputs": [],
   "source": []
  }
 ],
 "metadata": {
  "kernelspec": {
   "display_name": "Python 3",
   "language": "python",
   "name": "python3"
  },
  "language_info": {
   "codemirror_mode": {
    "name": "ipython",
    "version": 3
   },
   "file_extension": ".py",
   "mimetype": "text/x-python",
   "name": "python",
   "nbconvert_exporter": "python",
   "pygments_lexer": "ipython3",
   "version": "3.7.1"
  }
 },
 "nbformat": 4,
 "nbformat_minor": 2
}
